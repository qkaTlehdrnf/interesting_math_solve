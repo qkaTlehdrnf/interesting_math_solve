{
 "cells": [
  {
   "cell_type": "code",
   "execution_count": 1,
   "metadata": {},
   "outputs": [
    {
     "name": "stdout",
     "output_type": "stream",
     "text": [
      "cpu\n"
     ]
    }
   ],
   "source": [
    "import torch as tc\n",
    "device = 'cuda' if tc.cuda.is_available() else 'cpu'\n",
    "# device = tc.device('mps' if tc.backends.mps.is_available() else device) ##주의 mps는 모종의 오류가 있습니다!!! 홀수번째에서 -1이 되는데 이것만 따로 처리해주면 가능하긴 합니다\n",
    "print(device)"
   ]
  },
  {
   "cell_type": "code",
   "execution_count": 9,
   "metadata": {},
   "outputs": [],
   "source": [
    "n = tc.arange(1, 100000000, device=device).type(tc.int64)\n",
    "squared = n ** 2"
   ]
  },
  {
   "cell_type": "code",
   "execution_count": 10,
   "metadata": {},
   "outputs": [],
   "source": [
    "squared_sort_by_str_length = []\n",
    "former_zero_len = None\n",
    "original_sort = []\n",
    "for i in range(18):\n",
    "    # squared_sort_by_str_length.append(int(tc.log10(squared).int() == i))\n",
    "    squared_sort_by_str_length.append(squared[int((10**i -1)**0.5):int((10**(i+1)-1)**0.5)])\n",
    "    original_sort.append(n[int((10**i -1)**0.5):int((10**(i+1)-1)**0.5)])"
   ]
  },
  {
   "cell_type": "code",
   "execution_count": 11,
   "metadata": {},
   "outputs": [],
   "source": [
    "results = []\n",
    "for sqr_len, (sqr, ori) in enumerate(zip(squared_sort_by_str_length, original_sort)):\n",
    "    for i in range(sqr_len+1):\n",
    "        a = sqr // 10**i\n",
    "        b = sqr % 10**i\n",
    "        results.append(ori[a+b == ori].tolist())"
   ]
  },
  {
   "cell_type": "code",
   "execution_count": 12,
   "metadata": {},
   "outputs": [
    {
     "data": {
      "text/plain": [
       "171"
      ]
     },
     "execution_count": 12,
     "metadata": {},
     "output_type": "execute_result"
    }
   ],
   "source": [
    "len(results)"
   ]
  },
  {
   "cell_type": "code",
   "execution_count": 13,
   "metadata": {},
   "outputs": [],
   "source": [
    "results = {item for sublist in results for item in sublist}"
   ]
  },
  {
   "cell_type": "code",
   "execution_count": 14,
   "metadata": {},
   "outputs": [
    {
     "data": {
      "text/plain": [
       "{1,\n",
       " 9,\n",
       " 10,\n",
       " 45,\n",
       " 55,\n",
       " 99,\n",
       " 100,\n",
       " 297,\n",
       " 703,\n",
       " 999,\n",
       " 1000,\n",
       " 2223,\n",
       " 2728,\n",
       " 4879,\n",
       " 4950,\n",
       " 5050,\n",
       " 5292,\n",
       " 7272,\n",
       " 7777,\n",
       " 9999,\n",
       " 10000,\n",
       " 17344,\n",
       " 22222,\n",
       " 38962,\n",
       " 77778,\n",
       " 82656,\n",
       " 95121,\n",
       " 99999,\n",
       " 100000,\n",
       " 142857,\n",
       " 148149,\n",
       " 181819,\n",
       " 187110,\n",
       " 208495,\n",
       " 318682,\n",
       " 329967,\n",
       " 351352,\n",
       " 356643,\n",
       " 390313,\n",
       " 461539,\n",
       " 466830,\n",
       " 499500,\n",
       " 500500,\n",
       " 533170,\n",
       " 538461,\n",
       " 609687,\n",
       " 627615,\n",
       " 643357,\n",
       " 648648,\n",
       " 670033,\n",
       " 681318,\n",
       " 791505,\n",
       " 812890,\n",
       " 818181,\n",
       " 851851,\n",
       " 857143,\n",
       " 961038,\n",
       " 994708,\n",
       " 999999,\n",
       " 1000000,\n",
       " 4444444,\n",
       " 4927941,\n",
       " 5072059,\n",
       " 5479453,\n",
       " 5555556,\n",
       " 8161912,\n",
       " 9372385,\n",
       " 9999999,\n",
       " 10000000,\n",
       " 11111112,\n",
       " 13641364,\n",
       " 16590564,\n",
       " 19273023,\n",
       " 19773073,\n",
       " 24752475,\n",
       " 25252525,\n",
       " 30884184,\n",
       " 36363636,\n",
       " 38883889,\n",
       " 44363341,\n",
       " 44525548,\n",
       " 49995000,\n",
       " 50005000,\n",
       " 55474452,\n",
       " 55636659,\n",
       " 61116111,\n",
       " 63636364,\n",
       " 69115816,\n",
       " 74747475,\n",
       " 75247525,\n",
       " 80226927,\n",
       " 80726977,\n",
       " 83409436,\n",
       " 86358636,\n",
       " 88888888,\n",
       " 91838088,\n",
       " 94520547,\n",
       " 99999999}"
      ]
     },
     "execution_count": 14,
     "metadata": {},
     "output_type": "execute_result"
    }
   ],
   "source": [
    "results"
   ]
  }
 ],
 "metadata": {
  "kernelspec": {
   "display_name": "tc",
   "language": "python",
   "name": "python3"
  },
  "language_info": {
   "codemirror_mode": {
    "name": "ipython",
    "version": 3
   },
   "file_extension": ".py",
   "mimetype": "text/x-python",
   "name": "python",
   "nbconvert_exporter": "python",
   "pygments_lexer": "ipython3",
   "version": "3.10.10"
  },
  "orig_nbformat": 4
 },
 "nbformat": 4,
 "nbformat_minor": 2
}
